{
 "cells": [
  {
   "cell_type": "code",
   "execution_count": 51,
   "id": "0f05526d",
   "metadata": {},
   "outputs": [
    {
     "data": {
      "text/html": [
       "<div>\n",
       "<style scoped>\n",
       "    .dataframe tbody tr th:only-of-type {\n",
       "        vertical-align: middle;\n",
       "    }\n",
       "\n",
       "    .dataframe tbody tr th {\n",
       "        vertical-align: top;\n",
       "    }\n",
       "\n",
       "    .dataframe thead th {\n",
       "        text-align: right;\n",
       "    }\n",
       "</style>\n",
       "<table border=\"1\" class=\"dataframe\">\n",
       "  <thead>\n",
       "    <tr style=\"text-align: right;\">\n",
       "      <th></th>\n",
       "      <th>ID</th>\n",
       "      <th>air_time1</th>\n",
       "      <th>disp_index1</th>\n",
       "      <th>gmrt_in_air1</th>\n",
       "      <th>gmrt_on_paper1</th>\n",
       "      <th>max_x_extension1</th>\n",
       "      <th>max_y_extension1</th>\n",
       "      <th>mean_acc_in_air1</th>\n",
       "      <th>mean_acc_on_paper1</th>\n",
       "      <th>mean_gmrt1</th>\n",
       "      <th>...</th>\n",
       "      <th>mean_jerk_in_air25</th>\n",
       "      <th>mean_jerk_on_paper25</th>\n",
       "      <th>mean_speed_in_air25</th>\n",
       "      <th>mean_speed_on_paper25</th>\n",
       "      <th>num_of_pendown25</th>\n",
       "      <th>paper_time25</th>\n",
       "      <th>pressure_mean25</th>\n",
       "      <th>pressure_var25</th>\n",
       "      <th>total_time25</th>\n",
       "      <th>class</th>\n",
       "    </tr>\n",
       "  </thead>\n",
       "  <tbody>\n",
       "    <tr>\n",
       "      <th>0</th>\n",
       "      <td>id_1</td>\n",
       "      <td>5160</td>\n",
       "      <td>0.000013</td>\n",
       "      <td>120.804174</td>\n",
       "      <td>86.853334</td>\n",
       "      <td>957</td>\n",
       "      <td>6601</td>\n",
       "      <td>0.361800</td>\n",
       "      <td>0.217459</td>\n",
       "      <td>103.828754</td>\n",
       "      <td>...</td>\n",
       "      <td>0.141434</td>\n",
       "      <td>0.024471</td>\n",
       "      <td>5.596487</td>\n",
       "      <td>3.184589</td>\n",
       "      <td>71</td>\n",
       "      <td>40120</td>\n",
       "      <td>1749.278166</td>\n",
       "      <td>296102.7676</td>\n",
       "      <td>144605</td>\n",
       "      <td>P</td>\n",
       "    </tr>\n",
       "    <tr>\n",
       "      <th>1</th>\n",
       "      <td>id_2</td>\n",
       "      <td>51980</td>\n",
       "      <td>0.000016</td>\n",
       "      <td>115.318238</td>\n",
       "      <td>83.448681</td>\n",
       "      <td>1694</td>\n",
       "      <td>6998</td>\n",
       "      <td>0.272513</td>\n",
       "      <td>0.144880</td>\n",
       "      <td>99.383459</td>\n",
       "      <td>...</td>\n",
       "      <td>0.049663</td>\n",
       "      <td>0.018368</td>\n",
       "      <td>1.665973</td>\n",
       "      <td>0.950249</td>\n",
       "      <td>129</td>\n",
       "      <td>126700</td>\n",
       "      <td>1504.768272</td>\n",
       "      <td>278744.2850</td>\n",
       "      <td>298640</td>\n",
       "      <td>P</td>\n",
       "    </tr>\n",
       "    <tr>\n",
       "      <th>2</th>\n",
       "      <td>id_3</td>\n",
       "      <td>2600</td>\n",
       "      <td>0.000010</td>\n",
       "      <td>229.933997</td>\n",
       "      <td>172.761858</td>\n",
       "      <td>2333</td>\n",
       "      <td>5802</td>\n",
       "      <td>0.387020</td>\n",
       "      <td>0.181342</td>\n",
       "      <td>201.347928</td>\n",
       "      <td>...</td>\n",
       "      <td>0.178194</td>\n",
       "      <td>0.017174</td>\n",
       "      <td>4.000781</td>\n",
       "      <td>2.392521</td>\n",
       "      <td>74</td>\n",
       "      <td>45480</td>\n",
       "      <td>1431.443492</td>\n",
       "      <td>144411.7055</td>\n",
       "      <td>79025</td>\n",
       "      <td>P</td>\n",
       "    </tr>\n",
       "    <tr>\n",
       "      <th>3</th>\n",
       "      <td>id_4</td>\n",
       "      <td>2130</td>\n",
       "      <td>0.000010</td>\n",
       "      <td>369.403342</td>\n",
       "      <td>183.193104</td>\n",
       "      <td>1756</td>\n",
       "      <td>8159</td>\n",
       "      <td>0.556879</td>\n",
       "      <td>0.164502</td>\n",
       "      <td>276.298223</td>\n",
       "      <td>...</td>\n",
       "      <td>0.113905</td>\n",
       "      <td>0.019860</td>\n",
       "      <td>4.206746</td>\n",
       "      <td>1.613522</td>\n",
       "      <td>123</td>\n",
       "      <td>67945</td>\n",
       "      <td>1465.843329</td>\n",
       "      <td>230184.7154</td>\n",
       "      <td>181220</td>\n",
       "      <td>P</td>\n",
       "    </tr>\n",
       "    <tr>\n",
       "      <th>4</th>\n",
       "      <td>id_5</td>\n",
       "      <td>2310</td>\n",
       "      <td>0.000007</td>\n",
       "      <td>257.997131</td>\n",
       "      <td>111.275889</td>\n",
       "      <td>987</td>\n",
       "      <td>4732</td>\n",
       "      <td>0.266077</td>\n",
       "      <td>0.145104</td>\n",
       "      <td>184.636510</td>\n",
       "      <td>...</td>\n",
       "      <td>0.121782</td>\n",
       "      <td>0.020872</td>\n",
       "      <td>3.319036</td>\n",
       "      <td>1.680629</td>\n",
       "      <td>92</td>\n",
       "      <td>37285</td>\n",
       "      <td>1841.702561</td>\n",
       "      <td>158290.0255</td>\n",
       "      <td>72575</td>\n",
       "      <td>P</td>\n",
       "    </tr>\n",
       "  </tbody>\n",
       "</table>\n",
       "<p>5 rows × 452 columns</p>\n",
       "</div>"
      ],
      "text/plain": [
       "     ID  air_time1  disp_index1  gmrt_in_air1  gmrt_on_paper1  \\\n",
       "0  id_1       5160     0.000013    120.804174       86.853334   \n",
       "1  id_2      51980     0.000016    115.318238       83.448681   \n",
       "2  id_3       2600     0.000010    229.933997      172.761858   \n",
       "3  id_4       2130     0.000010    369.403342      183.193104   \n",
       "4  id_5       2310     0.000007    257.997131      111.275889   \n",
       "\n",
       "   max_x_extension1  max_y_extension1  mean_acc_in_air1  mean_acc_on_paper1  \\\n",
       "0               957              6601          0.361800            0.217459   \n",
       "1              1694              6998          0.272513            0.144880   \n",
       "2              2333              5802          0.387020            0.181342   \n",
       "3              1756              8159          0.556879            0.164502   \n",
       "4               987              4732          0.266077            0.145104   \n",
       "\n",
       "   mean_gmrt1  ...  mean_jerk_in_air25  mean_jerk_on_paper25  \\\n",
       "0  103.828754  ...            0.141434              0.024471   \n",
       "1   99.383459  ...            0.049663              0.018368   \n",
       "2  201.347928  ...            0.178194              0.017174   \n",
       "3  276.298223  ...            0.113905              0.019860   \n",
       "4  184.636510  ...            0.121782              0.020872   \n",
       "\n",
       "   mean_speed_in_air25  mean_speed_on_paper25  num_of_pendown25  paper_time25  \\\n",
       "0             5.596487               3.184589                71         40120   \n",
       "1             1.665973               0.950249               129        126700   \n",
       "2             4.000781               2.392521                74         45480   \n",
       "3             4.206746               1.613522               123         67945   \n",
       "4             3.319036               1.680629                92         37285   \n",
       "\n",
       "   pressure_mean25  pressure_var25  total_time25  class  \n",
       "0      1749.278166     296102.7676        144605      P  \n",
       "1      1504.768272     278744.2850        298640      P  \n",
       "2      1431.443492     144411.7055         79025      P  \n",
       "3      1465.843329     230184.7154        181220      P  \n",
       "4      1841.702561     158290.0255         72575      P  \n",
       "\n",
       "[5 rows x 452 columns]"
      ]
     },
     "execution_count": 51,
     "metadata": {},
     "output_type": "execute_result"
    }
   ],
   "source": [
    "import pandas as pd\n",
    "import numpy as np\n",
    "import matplotlib.pyplot as plt\n",
    "\n",
    "data = pd.read_csv(\"DARWIN.csv\")\n",
    "data.head()"
   ]
  },
  {
   "cell_type": "code",
   "execution_count": 52,
   "id": "d567ce49",
   "metadata": {},
   "outputs": [
    {
     "data": {
      "text/html": [
       "<div>\n",
       "<style scoped>\n",
       "    .dataframe tbody tr th:only-of-type {\n",
       "        vertical-align: middle;\n",
       "    }\n",
       "\n",
       "    .dataframe tbody tr th {\n",
       "        vertical-align: top;\n",
       "    }\n",
       "\n",
       "    .dataframe thead th {\n",
       "        text-align: right;\n",
       "    }\n",
       "</style>\n",
       "<table border=\"1\" class=\"dataframe\">\n",
       "  <thead>\n",
       "    <tr style=\"text-align: right;\">\n",
       "      <th></th>\n",
       "      <th>num_of_pendown1</th>\n",
       "      <th>num_of_pendown2</th>\n",
       "    </tr>\n",
       "  </thead>\n",
       "  <tbody>\n",
       "    <tr>\n",
       "      <th>num_of_pendown1</th>\n",
       "      <td>1.000000</td>\n",
       "      <td>0.502867</td>\n",
       "    </tr>\n",
       "    <tr>\n",
       "      <th>num_of_pendown2</th>\n",
       "      <td>0.502867</td>\n",
       "      <td>1.000000</td>\n",
       "    </tr>\n",
       "  </tbody>\n",
       "</table>\n",
       "</div>"
      ],
      "text/plain": [
       "                 num_of_pendown1  num_of_pendown2\n",
       "num_of_pendown1         1.000000         0.502867\n",
       "num_of_pendown2         0.502867         1.000000"
      ]
     },
     "execution_count": 52,
     "metadata": {},
     "output_type": "execute_result"
    }
   ],
   "source": [
    "pendowns = data[[\"num_of_pendown1\", \"num_of_pendown2\"]]\n",
    "pendowns.corr()"
   ]
  },
  {
   "cell_type": "code",
   "execution_count": 53,
   "id": "21d72e8d",
   "metadata": {},
   "outputs": [
    {
     "data": {
      "text/plain": [
       "<matplotlib.collections.PathCollection at 0x19c9c8a2d20>"
      ]
     },
     "execution_count": 53,
     "metadata": {},
     "output_type": "execute_result"
    },
    {
     "data": {
      "image/png": "[encoded data removed]",
      "text/plain": [
       "<Figure size 640x480 with 1 Axes>"
      ]
     },
     "metadata": {},
     "output_type": "display_data"
    }
   ],
   "source": [
    "pendown1 = data[\"num_of_pendown1\"]\n",
    "pendown2 = data[\"num_of_pendown2\"]\n",
    "\n",
    "plt.scatter(pendown1, pendown2)"
   ]
  },
  {
   "cell_type": "code",
   "execution_count": 54,
   "id": "0e55c82a",
   "metadata": {},
   "outputs": [
    {
     "data": {
      "text/plain": [
       "<matplotlib.collections.PathCollection at 0x19ca89ade50>"
      ]
     },
     "execution_count": 54,
     "metadata": {},
     "output_type": "execute_result"
    },
    {
     "data": {
      "image/png": "[encoded data removed]",
      "text/plain": [
       "<Figure size 640x480 with 1 Axes>"
      ]
     },
     "metadata": {},
     "output_type": "display_data"
    }
   ],
   "source": [
    "pendowns_class = data[[\"num_of_pendown1\", \"num_of_pendown2\", \"class\"]]\n",
    "pendowns_P = pendowns_class[pendowns_class[\"class\"] == \"P\"].drop(columns=[\"class\"])\n",
    "pendowns_P.corr()\n",
    "\n",
    "pendown1_P = pendowns_P[\"num_of_pendown1\"]\n",
    "pendown2_P = pendowns_P[\"num_of_pendown2\"]\n",
    "\n",
    "plt.scatter(pendown1_P, pendown2_P)"
   ]
  },
  {
   "cell_type": "code",
   "execution_count": 55,
   "id": "5b5c219b",
   "metadata": {},
   "outputs": [
    {
     "data": {
      "text/plain": [
       "<matplotlib.collections.PathCollection at 0x19ca89a3350>"
      ]
     },
     "execution_count": 55,
     "metadata": {},
     "output_type": "execute_result"
    },
    {
     "data": {
      "image/png": "[encoded data removed]",
      "text/plain": [
       "<Figure size 640x480 with 1 Axes>"
      ]
     },
     "metadata": {},
     "output_type": "display_data"
    }
   ],
   "source": [
    "pendowns_H = pendowns_class[pendowns_class[\"class\"] == \"H\"].drop(columns=[\"class\"])\n",
    "pendowns_H.corr()\n",
    "\n",
    "pendown1_H = pendowns_H[\"num_of_pendown1\"]\n",
    "pendown2_H = pendowns_H[\"num_of_pendown2\"]\n",
    "\n",
    "plt.scatter(pendown1_H, pendown2_H)"
   ]
  },
  {
   "cell_type": "code",
   "execution_count": 56,
   "id": "0e610712",
   "metadata": {},
   "outputs": [],
   "source": [
    "import sklearn.naive_bayes\n",
    "import re\n",
    "import random"
   ]
  },
  {
   "cell_type": "code",
   "execution_count": 57,
   "id": "ba827220",
   "metadata": {},
   "outputs": [
    {
     "data": {
      "text/plain": [
       "['num_of_pendown22',\n",
       " 'num_of_pendown1',\n",
       " 'num_of_pendown13',\n",
       " 'num_of_pendown24',\n",
       " 'num_of_pendown11',\n",
       " 'num_of_pendown5',\n",
       " 'num_of_pendown3',\n",
       " 'num_of_pendown6',\n",
       " 'num_of_pendown25',\n",
       " 'num_of_pendown21']"
      ]
     },
     "metadata": {},
     "output_type": "display_data"
    }
   ],
   "source": [
    "r = re.compile(\"num_of_pendown*\")\n",
    "nums = list(filter(r.match, data.columns))\n",
    "nums = random.sample(nums, 10)\n",
    "display(nums)"
   ]
  },
  {
   "cell_type": "code",
   "execution_count": 58,
   "id": "a618d47d",
   "metadata": {},
   "outputs": [
    {
     "name": "stdout",
     "output_type": "stream",
     "text": [
      "=== Train/Test Split Accuracy ===\n",
      "Pendown features (10): 0.8113207547169812\n",
      "Random features (10):  0.8301886792452831\n",
      "\n",
      "=== Cross-Validation Accuracy (10 folds) ===\n",
      "Pendown features (10): 0.7859477124183007\n",
      "Random features (10):  0.8316993464052287\n"
     ]
    }
   ],
   "source": [
    "import pandas as pd\n",
    "import numpy as np\n",
    "from sklearn.model_selection import train_test_split, cross_val_score\n",
    "from sklearn.naive_bayes import GaussianNB\n",
    "from sklearn.metrics import accuracy_score\n",
    "\n",
    "pendown_cols = [col for col in data.columns if col.startswith(\"num_of_pendown\")]\n",
    "\n",
    "r = re.compile(\"num_of_pendown*\")\n",
    "nums = list(filter(r.match, data.columns))\n",
    "pendown_features = random.sample(nums, 10)\n",
    "\n",
    "other_features = [col for col in data.columns if col != \"class\"]\n",
    "random_features = np.random.choice(other_features, 10, replace=False)\n",
    "\n",
    "X_pendown = data[pendown_features]\n",
    "X_random = data[random_features]\n",
    "y = data[\"class\"]\n",
    "\n",
    "gnb = GaussianNB()\n",
    "\n",
    "X_train_p, X_test_p, y_train, y_test = train_test_split(X_pendown, y, test_size=0.3, random_state=42)\n",
    "gnb.fit(X_train_p, y_train)\n",
    "y_pred_p = gnb.predict(X_test_p)\n",
    "accuracy_pendown_split = accuracy_score(y_test, y_pred_p)\n",
    "\n",
    "X_train_r, X_test_r, y_train, y_test = train_test_split(X_random, y, test_size=0.3, random_state=42)\n",
    "gnb.fit(X_train_r, y_train)\n",
    "y_pred_r = gnb.predict(X_test_r)\n",
    "accuracy_random_split = accuracy_score(y_test, y_pred_r)\n",
    "\n",
    "cv_scores_pendown = cross_val_score(gnb, X_pendown, y, cv=10, scoring='accuracy')\n",
    "cv_scores_random = cross_val_score(gnb, X_random, y, cv=10, scoring='accuracy')\n",
    "\n",
    "print(\"=== Train/Test Split Accuracy ===\")\n",
    "print(\"Pendown features (10):\", accuracy_pendown_split)\n",
    "print(\"Random features (10): \", accuracy_random_split)\n",
    "\n",
    "print(\"\\n=== Cross-Validation Accuracy (10 folds) ===\")\n",
    "print(\"Pendown features (10):\", cv_scores_pendown.mean())\n",
    "print(\"Random features (10): \", cv_scores_random.mean())\n"
   ]
  },
  {
   "cell_type": "code",
   "execution_count": 59,
   "id": "906b7d6a",
   "metadata": {},
   "outputs": [
    {
     "name": "stdout",
     "output_type": "stream",
     "text": [
      "=== Train/Test Split Accuracy ===\n",
      "Pendown features (10): 0.6792452830188679\n",
      "Random features (10):  0.8113207547169812\n",
      "\n",
      "=== Cross-Validation Accuracy (10 folds) ===\n",
      "Pendown features (10): 0.7513071895424837\n",
      "Random features (10):  0.8150326797385621\n"
     ]
    }
   ],
   "source": [
    "from sklearn.linear_model import LogisticRegression\n",
    "\n",
    "log_reg = LogisticRegression(max_iter=10000)\n",
    "\n",
    "X_train_p, X_test_p, y_train, y_test = train_test_split(X_pendown, y, test_size=0.3, random_state=42)\n",
    "log_reg.fit(X_train_p, y_train)\n",
    "y_pred_p = log_reg.predict(X_test_p)\n",
    "accuracy_pendown_split = accuracy_score(y_test, y_pred_p)\n",
    "\n",
    "X_train_r, X_test_r, y_train, y_test = train_test_split(X_random, y, test_size=0.3, random_state=42)\n",
    "log_reg.fit(X_train_r, y_train)\n",
    "y_pred_r = log_reg.predict(X_test_r)\n",
    "accuracy_random_split = accuracy_score(y_test, y_pred_r)\n",
    "\n",
    "cv_scores_pendown = cross_val_score(log_reg, X_pendown, y, cv=10, scoring='accuracy')\n",
    "cv_scores_random = cross_val_score(log_reg, X_random, y, cv=10, scoring='accuracy')\n",
    "\n",
    "print(\"=== Train/Test Split Accuracy ===\")\n",
    "print(\"Pendown features (10):\", accuracy_pendown_split)\n",
    "print(\"Random features (10): \", accuracy_random_split)\n",
    "\n",
    "print(\"\\n=== Cross-Validation Accuracy (10 folds) ===\")\n",
    "print(\"Pendown features (10):\", cv_scores_pendown.mean())\n",
    "print(\"Random features (10): \", cv_scores_random.mean())"
   ]
  },
  {
   "cell_type": "code",
   "execution_count": null,
   "id": "3d3c8a8e",
   "metadata": {},
   "outputs": [],
   "source": []
  }
 ],
 "metadata": {
  "kernelspec": {
   "display_name": "base",
   "language": "python",
   "name": "python3"
  },
  "language_info": {
   "codemirror_mode": {
    "name": "ipython",
    "version": 3
   },
   "file_extension": ".py",
   "mimetype": "text/x-python",
   "name": "python",
   "nbconvert_exporter": "python",
   "pygments_lexer": "ipython3",
   "version": "3.12.7"
  }
 },
 "nbformat": 4,
 "nbformat_minor": 5
}
